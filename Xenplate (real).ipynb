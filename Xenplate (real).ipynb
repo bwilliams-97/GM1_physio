{
 "cells": [
  {
   "cell_type": "markdown",
   "metadata": {},
   "source": [
    "# Xenplate Communication Code"
   ]
  },
  {
   "cell_type": "code",
   "execution_count": 1,
   "metadata": {},
   "outputs": [],
   "source": [
    "import requests\n",
    "from datetime import datetime\n",
    "import time\n",
    "import json"
   ]
  },
  {
   "cell_type": "code",
   "execution_count": 2,
   "metadata": {},
   "outputs": [],
   "source": [
    "#codes for convenience\n",
    "user = \"GroupThree\"\n",
    "key = \"wRjUm82tln5ZYPpd1tQ3rV0c\"\n",
    "certif = \"N3s7i2uYJ0pgAiRxEHv2FNYw\"\n",
    "\n",
    "path = r\"C:\\Users\\Alex\\Documents\\Cambridge\\IIA\\3rd Year Projects\\3GM1 Physio Project\\Xenplate Passwords\\L2S2-2018-CUEDGroup3-20180509\"\n",
    "\n",
    "cert_path = path + \".crt\"\n",
    "key_path = path + \".key.decrypted\""
   ]
  },
  {
   "cell_type": "code",
   "execution_count": 3,
   "metadata": {},
   "outputs": [
    {
     "name": "stdout",
     "output_type": "stream",
     "text": [
      "2012-08-29 11:38:22\n",
      "6687360000.0\n",
      "6892423921.136826\n"
     ]
    }
   ],
   "source": [
    "print(datetime.fromtimestamp(1346236702))\n",
    "s = \"01/12/2011\"\n",
    "t_stamp = time.mktime(datetime.strptime(s, \"%d/%m/%Y\").timetuple()) + 5364662400 #add seconds from 00:00:00 01/01/1800 to epoch (1970)\n",
    "t_now = datetime.now().timestamp() + 5364662400\n",
    "print(t_stamp)\n",
    "print(t_now)"
   ]
  },
  {
   "cell_type": "markdown",
   "metadata": {},
   "source": [
    "# Record (Key plate/Person)"
   ]
  },
  {
   "cell_type": "markdown",
   "metadata": {},
   "source": [
    "'id_number' is the user-assigned unique identifier, for instance the patient's NHS number - you will need to provide that one\n",
    "the record property names are only in the form 'IdNumber' when calling the record search function, \n",
    "because of an inconsistency in the code - everywhere else, use the format specified in the documentation ('id_number')\n",
    "\n",
    "'id' is the unique identifier that we assign to an entry in the database:\n",
    "when calling any 'create' function, you don't need to send a value for that and if you do, we'll ignore it. \n",
    "However when you read items, we'll send you the id, since that's the quickest way to uniquely identify the thing you're reading."
   ]
  },
  {
   "cell_type": "markdown",
   "metadata": {},
   "source": [
    "#### Create Record/Key plate"
   ]
  },
  {
   "cell_type": "code",
   "execution_count": 4,
   "metadata": {},
   "outputs": [],
   "source": [
    "#record_create = requests.post('https://cued2018.xenplate.com/api/record/create',\n",
    "#                               json={\"record\": {\n",
    "#                                       \"first_names\": \"Alex\",\n",
    "#                                       \"surname\": \"Darch\",\n",
    "#                                       \"address_line1\": \"18 Thornton Ave\",\n",
    "#                                       \"address_line2\": \"Warsash\",\n",
    "#                                       \"address_town\": \"Southampton\",\n",
    "#                                       \"address_county\": \"Hampshire\",\n",
    "#                                       \"address_postcode\": \"SO31 9FJ\",\n",
    "#                                       \"id_number\": \"1234567890\",               #assign this\n",
    "#                                       \"date_of_birth\": t_now,\n",
    "#                                       \"contact_email\": \"ad806@cam.ac.uk\",\n",
    "#                                       \"contact_mobile\": \"\",\n",
    "#                                       \"contact_phone\": \"\"\n",
    "#                                       }\n",
    "#                                     },\n",
    "#                                 headers={'Authorization': 'X-API-KEY: ' + key},  #dont need the certificate password as we have unlocked it\n",
    "#                                 cert=(cert_path, key_path)                       #not verify, cert for all of them\n",
    "#                               )\n",
    "#attrs = vars(record_create)\n",
    "#print('\\n'.join(\"%s: %s\" % item for item in attrs.items()))                    #If we use print(stuff.text) it is the equivelent of print(stuff._content)                  "
   ]
  },
  {
   "cell_type": "markdown",
   "metadata": {},
   "source": [
    "#### Search Records"
   ]
  },
  {
   "cell_type": "code",
   "execution_count": 16,
   "metadata": {},
   "outputs": [
    {
     "name": "stdout",
     "output_type": "stream",
     "text": [
      "_content: b'{\"RecordSearchResult\":{\"status\":0,\"records\":[{\"date_of_birth\":6483196800,\"first_names\":\"Martha\",\"id\":38,\"id_number\":\"9990082235\",\"surname\":\"Patterson\"},{\"date_of_birth\":5762188800,\"first_names\":\"Jeremy\",\"id\":40,\"id_number\":\"9990082200\",\"surname\":\"Thomas\"}]}}'\n",
      "_content_consumed: True\n",
      "_next: None\n",
      "status_code: 200\n",
      "headers: {'Content-Length': '258', 'Content-Type': 'application/json; charset=utf-8', 'Server': 'Microsoft-HTTPAPI/2.0', 'Date': 'Thu, 31 May 2018 08:48:29 GMT'}\n",
      "raw: <urllib3.response.HTTPResponse object at 0x0000025941297E80>\n",
      "url: https://cued2018.xenplate.com/api/record/search\n",
      "encoding: utf-8\n",
      "history: []\n",
      "reason: OK\n",
      "cookies: <RequestsCookieJar[]>\n",
      "elapsed: 0:00:00.247160\n",
      "request: <PreparedRequest [POST]>\n",
      "connection: <requests.adapters.HTTPAdapter object at 0x0000025941297978>\n"
     ]
    }
   ],
   "source": [
    "record_search = requests.post('https://cued2018.xenplate.com/api/record/search',\n",
    "                        json={\"filters\": [{\n",
    "                                        \"operator\": 4,          #comparison operator. 1 = \"=\", 2 = \"<\", 4 = \">\". (There is no 3, and 0 is invalid)\n",
    "                                        \"property\": \"IdNumber\", #Inconsistency in code means \"records\" uses IdNumber, but the others use id_number\n",
    "                                        \"value\": 7000000000     #can have a number or a string here\n",
    "                                        }]\n",
    "                            },\n",
    "                        headers={'Authorization': 'X-API-KEY: ' + key},\n",
    "                        cert=(cert_path, key_path)                          #dont need the certificate password as we have unlocked it\n",
    "                     )\n",
    "attrs = vars(record_search)\n",
    "print('\\n'.join(\"%s: %s\" % item for item in attrs.items()))\n"
   ]
  },
  {
   "cell_type": "markdown",
   "metadata": {},
   "source": [
    "#### Read Specific Record"
   ]
  },
  {
   "cell_type": "code",
   "execution_count": 6,
   "metadata": {
    "scrolled": false
   },
   "outputs": [
    {
     "name": "stdout",
     "output_type": "stream",
     "text": [
      "_content: b'{\"RecordReadResult\":{\"status\":0,\"record\":{\"address_county\":\"Hampshire\",\"address_line1\":\"18 Thornton Ave\",\"address_line2\":\"Warsash\",\"address_postcode\":\"SO31 9FJ\",\"address_town\":\"Southampton\",\"contact_email\":\"ad806@cam.ac.uk\",\"contact_mobile\":\"\",\"contact_phone\":\"\",\"date_of_birth\":1322697600,\"first_names\":\"Alex\",\"id\":13,\"id_number\":\"1234567890\",\"surname\":\"Darch\"}}}'\n",
      "_content_consumed: True\n",
      "_next: None\n",
      "status_code: 200\n",
      "headers: {'Content-Length': '364', 'Content-Type': 'application/json; charset=utf-8', 'Server': 'Microsoft-HTTPAPI/2.0', 'Date': 'Wed, 30 May 2018 20:38:38 GMT'}\n",
      "raw: <urllib3.response.HTTPResponse object at 0x00000225E3485B00>\n",
      "url: https://cued2018.xenplate.com/api/record/read?record_id=13\n",
      "encoding: utf-8\n",
      "history: []\n",
      "reason: OK\n",
      "cookies: <RequestsCookieJar[]>\n",
      "elapsed: 0:00:00.208098\n",
      "request: <PreparedRequest [GET]>\n",
      "connection: <requests.adapters.HTTPAdapter object at 0x00000225E34722B0>\n"
     ]
    }
   ],
   "source": [
    "#need to search for record_id, not IdNumber/id_number\n",
    "record_read_by_id = requests.get('https://cued2018.xenplate.com/api/record/read?record_id=13', #only works for record_id (i.e. not id_number, first_names... etc.)\n",
    "                        headers={'Authorization': 'X-API-KEY: ' + key},\n",
    "                        cert=(cert_path, key_path)                          #dont need the certificate password as we have unlocked it\n",
    "                     )                                                      #is there a particular reason why cert uses curved brackets rather than curly ones?\n",
    "attrs = vars(record_read_by_id)\n",
    "print('\\n'.join(\"%s: %s\" % item for item in attrs.items()))"
   ]
  },
  {
   "cell_type": "markdown",
   "metadata": {},
   "source": [
    "# Plate Data"
   ]
  },
  {
   "cell_type": "markdown",
   "metadata": {},
   "source": [
    "#### Create Plate"
   ]
  },
  {
   "cell_type": "markdown",
   "metadata": {},
   "source": [
    "'control_values' are the actual values of data in your filled-in form - get a plate template and have a look at what's inside it and hopefully this will make sense. The control_values collection is a dictionary of control id to value, e.g. if your plate template has a 'dosage quantity' field in it, and its id is 427, and you want to post a value of 100 for that field, then the control_values entry for that would be { \"id\": \"427\", \"value\": \"100\"}. If you can download some plate data you'll see how it's laid out and that will guide you.\n",
    "\n",
    "'plate_template_id' is 'id' for a plate template - you can get this by searching for templates (you don't have this call in your code but it's in the doc - /template/list/all will get you all of them); likewise the version (templates are versioned and you should make sure you're using the latest)\n",
    "\n",
    "plate_id is 'id' for a plate data instance - you can get this by searching for plates (/api/data/list)"
   ]
  },
  {
   "cell_type": "code",
   "execution_count": 7,
   "metadata": {},
   "outputs": [
    {
     "name": "stdout",
     "output_type": "stream",
     "text": [
      "{\"PlateDataCreateResult\":{\"status\":0,\"control_validation_errors\":[],\"plate_data_id\":1327,\"validation_errors\":[]}}\n"
     ]
    }
   ],
   "source": [
    "plate_data_create = requests.post('https://cued2018.xenplate.com/api/data/create',\n",
    "                        json={\"data\": {\n",
    "                                        \"record_id\": 5,\n",
    "                                        \"plate_template_id\": \"2ab6af16-1d0b-4daf-8c23-6e61fccdbfea\",          \n",
    "                                        \"plate_template_version\": 4,          #keep this as the latest iteration of leg raise template\n",
    "#                                        \"prior_data_id\": \"\",                  #optional\n",
    "#                                        \"track_id\": \"\",\n",
    "                                        \"control_values\":                       \n",
    "                                        [\n",
    "                                              {\"id\":187,\"value\":\"2018-05-17\"},\n",
    "                                              {\"id\":188,\"value\":\"10:00\"},\n",
    "                                              {\"id\":191,\"value\":\"1\"},  \n",
    "                                              {\"id\":192,\"value\":\"2\"},\n",
    "                                              {\"id\":193,\"value\":\"5\"},\n",
    "                                              {\"id\":194,\"value\":\"1\"},\n",
    "                                              {\"id\":196,\"value\":\"Test 2.\\u000a\\u000aCan I read different plates?\"}\n",
    "                                            ]\n",
    "                                       }\n",
    "                            },\n",
    "                        headers={'Authorization': 'X-API-KEY: ' + key},\n",
    "                        cert=(cert_path, key_path)\n",
    "                     )\n",
    "print(plate_data_create.text)"
   ]
  },
  {
   "cell_type": "code",
   "execution_count": 8,
   "metadata": {},
   "outputs": [
    {
     "name": "stdout",
     "output_type": "stream",
     "text": [
      "1327\n"
     ]
    }
   ],
   "source": [
    "#this is bad code, if more time, use regular expressions\n",
    "def get_plate_id(text):\n",
    "    #pick out and store the plate_data_id from when we create the plate\n",
    "    i = 0\n",
    "    while text[i] != \"\":\n",
    "        if i < len(text) - 17: #stops it going to the end to prevent errors\n",
    "            if text[i:i+16] == '\"plate_data_id\":':\n",
    "                idnum = text[i+16:i+20]\n",
    "        \n",
    "        else: break\n",
    "\n",
    "        i = i+1\n",
    "    \n",
    "    return idnum\n",
    "\n",
    "plate_id = get_plate_id(plate_data_create.text)\n",
    "print(plate_id)"
   ]
  },
  {
   "cell_type": "markdown",
   "metadata": {},
   "source": [
    "#### Read Latest instances of each plate type of a certain record"
   ]
  },
  {
   "cell_type": "code",
   "execution_count": 9,
   "metadata": {},
   "outputs": [
    {
     "name": "stdout",
     "output_type": "stream",
     "text": [
      "{\"PlateDataReadNewestForRecordResult\":{\"status\":0,\"plate_data_headers\":[{\"created_date\":6890543262,\"id\":1009,\"plate_id\":\"e1dfbae8-f39f-40e4-9073-2878bc5b1e96\",\"plate_name\":\"Key Plate\",\"track_id\":\"e1dfbae8-f39f-40e4-9073-2878bc5b1e96\"},{\"created_date\":6892375121,\"id\":1327,\"plate_id\":\"2ab6af16-1d0b-4daf-8c23-6e61fccdbfea\",\"plate_name\":\"Blood Sugar Reading\",\"track_id\":\"2ab6af16-1d0b-4daf-8c23-6e61fccdbfea\"},{\"created_date\":6892372496,\"id\":1325,\"plate_id\":\"3a5c9958-dc82-4c74-be84-ded2514fd9d8\",\"plate_name\":\"Knee lift session log\",\"track_id\":\"3a5c9958-dc82-4c74-be84-ded2514fd9d8\"}]}}\n"
     ]
    }
   ],
   "source": [
    "plate_data_read_newest = requests.get('https://cued2018.xenplate.com/api/data/list/newest?record_id=5',\n",
    "                               headers={'Authorization': 'X-API-KEY: ' + key},\n",
    "                               cert=(cert_path, key_path)\n",
    "                               )\n",
    "print(plate_data_read_newest.text)"
   ]
  },
  {
   "cell_type": "code",
   "execution_count": 10,
   "metadata": {},
   "outputs": [
    {
     "name": "stdout",
     "output_type": "stream",
     "text": [
      "1325\n"
     ]
    }
   ],
   "source": [
    "def get_newest_plate_id(text):\n",
    "    i = 0\n",
    "    while text[i] != \"\":\n",
    "        if i < len(text) - 17:\n",
    "            \n",
    "            if text[i:i+5] == '\"id\":':\n",
    "                plate_id = text[i+5:i+9]\n",
    "        else: break\n",
    "        i = i+1\n",
    "    \n",
    "    return plate_id\n",
    "    \n",
    "print(get_newest_plate_id(plate_data_read_newest.text))"
   ]
  },
  {
   "cell_type": "markdown",
   "metadata": {},
   "source": [
    "#### Read specific plate data (by record ID and plate ID)"
   ]
  },
  {
   "cell_type": "code",
   "execution_count": 11,
   "metadata": {},
   "outputs": [
    {
     "name": "stdout",
     "output_type": "stream",
     "text": [
      "{\"PlateDataReadByIdResult\":{\"status\":0,\"plate_data\":{\"control_values\":[{\"attachments\":[],\"id\":4,\"value\":\"5\"},{\"attachments\":[],\"id\":9,\"value\":\"True\"},{\"attachments\":[],\"id\":10,\"value\":\"54\"},{\"attachments\":[],\"id\":13,\"value\":\"False\"},{\"attachments\":[],\"id\":14,\"value\":\"True\"},{\"attachments\":[],\"id\":15,\"value\":\"False\"},{\"attachments\":[],\"id\":16,\"value\":\"\"},{\"attachments\":[],\"id\":17,\"value\":\"32.8\"},{\"attachments\":[],\"id\":18,\"value\":\"\"},{\"attachments\":[],\"id\":22,\"value\":\"12\"},{\"attachments\":[],\"id\":23,\"value\":\"\"},{\"attachments\":[],\"id\":24,\"value\":\"5\"},{\"attachments\":[],\"id\":25,\"value\":\"\"},{\"attachments\":[],\"id\":28,\"value\":\"8.2%\"},{\"attachments\":[{\"description\":\"\",\"key\":\"24DAADF7B601DD71AA7B74EB2D6BA796F30F305D.png\",\"original_file_name\":\"SampleKneeLiftChart.png\",\"saved_date_time\":6891911465}],\"id\":29,\"value\":\"\"},{\"attachments\":[{\"description\":\"\",\"key\":\"3921BD1A1D625E3E6CEBBCD57DC99C3094F7ACF9.docx\",\"original_file_name\":\"TestData.docx\",\"saved_date_time\":6891911498}],\"id\":32,\"value\":\"\"}],\"id\":1056,\"last_edit_date\":6891911498,\"plate_template_id\":\"3a5c9958-dc82-4c74-be84-ded2514fd9d8\",\"plate_template_version\":15,\"record_id\":5}}}\n"
     ]
    }
   ],
   "source": [
    "plate_data_read = requests.get('https://cued2018.xenplate.com/api/data/read/id?record_id=5&plate_data_id=1056', #1078 for knee\n",
    "                                headers={'Authorization': 'X-API-KEY: ' + key},         #1015 for blood sugar\n",
    "                                cert=(cert_path, key_path)\n",
    "                                )\n",
    "print(plate_data_read.text)"
   ]
  },
  {
   "cell_type": "code",
   "execution_count": 12,
   "metadata": {},
   "outputs": [
    {
     "name": "stdout",
     "output_type": "stream",
     "text": [
      "('3a5c9958-dc82-4c74-be84-ded2514fd9d8', '15')\n"
     ]
    }
   ],
   "source": [
    "def get_plate_template_id_and_version(text):\n",
    "    #pick out and store the plate_data_id from when we create the plate\n",
    "\n",
    "    i = 0\n",
    "    while text[i] != \"\":\n",
    "        if i < len(text) - 17: #stops it going to the end to prevent errors\n",
    "            if text[i:i+20] == '\"plate_template_id\":':\n",
    "                temp_id = text[i+21:i+57]\n",
    "                \n",
    "            if text[i:i+25] == '\"plate_template_version\":':\n",
    "                version_num = text[i+25:i+27]\n",
    "        else: break\n",
    "        i = i+1\n",
    "    \n",
    "    return temp_id, version_num\n",
    "\n",
    "print(get_plate_template_id_and_version(plate_data_read.text))"
   ]
  },
  {
   "cell_type": "markdown",
   "metadata": {},
   "source": [
    "# Plate Template"
   ]
  },
  {
   "cell_type": "markdown",
   "metadata": {},
   "source": [
    "Regarding what you can store: text fields (single- or multi-line), number fields, image/file attachments, true/false fields (i.e. tick boxes) - there are others but these should cover all your bases I would think. If you need anything more complicated then get in touch. Just a simple Word document to give me an idea of content and layout (and any static images, colours, etc for decoration if you want to add those).\n",
    "\n",
    "I've now created this plate - it's called \"Knee lift session log\", current version number is 11. If you have a look on the Group Three test record you will see I've created an instance with some sample data. Please feel free to have a play - note that at present the UI restricts the different types of file that can be uploaded (and in particular forbids CSV and TXT files - I've asked for this restriction to be lifted and hopefully it will be today), but the API does not - you should be able to upload anything you like via the API."
   ]
  },
  {
   "cell_type": "code",
   "execution_count": 13,
   "metadata": {
    "scrolled": true
   },
   "outputs": [
    {
     "name": "stdout",
     "output_type": "stream",
     "text": [
      "_content: b'{\"PlateTemplateReadAllActiveResult\":{\"status\":0,\"plate_template_headers\":[{\"id\":\"2ab6af16-1d0b-4daf-8c23-6e61fccdbfea\",\"is_active\":true,\"name\":\"Blood Sugar Reading\",\"version\":4},{\"id\":\"e1dfbae8-f39f-40e4-9073-2878bc5b1e96\",\"is_active\":true,\"name\":\"Key Plate\",\"version\":47},{\"id\":\"3a5c9958-dc82-4c74-be84-ded2514fd9d8\",\"is_active\":true,\"name\":\"Knee lift session log\",\"version\":17}]}}'\n",
      "_content_consumed: True\n",
      "_next: None\n",
      "status_code: 200\n",
      "headers: {'Content-Length': '382', 'Content-Type': 'application/json; charset=utf-8', 'Server': 'Microsoft-HTTPAPI/2.0', 'Date': 'Wed, 30 May 2018 20:38:57 GMT'}\n",
      "raw: <urllib3.response.HTTPResponse object at 0x00000225E34BCE10>\n",
      "url: https://cued2018.xenplate.com/api/template/list/active\n",
      "encoding: utf-8\n",
      "history: []\n",
      "reason: OK\n",
      "cookies: <RequestsCookieJar[]>\n",
      "elapsed: 0:00:00.188562\n",
      "request: <PreparedRequest [GET]>\n",
      "connection: <requests.adapters.HTTPAdapter object at 0x00000225E34BC5F8>\n"
     ]
    }
   ],
   "source": [
    "plate_template_read = requests.get('https://cued2018.xenplate.com/api/template/list/active', #what is the plateid? and could it be IdPlate?\n",
    "                               headers={'Authorization': 'X-API-KEY: ' + key},          #also what is a track_id?\n",
    "                               cert=(cert_path, key_path)\n",
    "                               )\n",
    "attrs = vars(plate_template_read)\n",
    "print('\\n'.join(\"%s: %s\" % item for item in attrs.items())) "
   ]
  },
  {
   "cell_type": "code",
   "execution_count": 14,
   "metadata": {},
   "outputs": [
    {
     "name": "stdout",
     "output_type": "stream",
     "text": [
      "{\"PlateTemplateReadByIdNameVersionResult\":{\"status\":0,\"plate_template\":{\"controls\":[{\"default\":\"\",\"id\":2,\"name\":\"Panel1\",\"type\":30},{\"default\":\"\",\"id\":3,\"name\":\"Label1\",\"type\":1010},{\"default\":\"\",\"id\":4,\"is_editable\":true,\"is_numeric\":true,\"name\":\"NumberOfSessions\",\"type\":2050},{\"default\":\"\",\"id\":5,\"name\":\"Label2\",\"type\":1010},{\"default\":\"\",\"id\":6,\"name\":\"Label3\",\"type\":1010},{\"default\":\"\",\"id\":7,\"name\":\"Label4\",\"type\":1010},{\"default\":\"\",\"id\":8,\"name\":\"Label5\",\"type\":1010},{\"default\":\"\",\"id\":9,\"is_editable\":true,\"name\":\"CalfContractedYN\",\"type\":2000},{\"default\":\"\",\"id\":10,\"is_editable\":true,\"is_numeric\":true,\"name\":\"CalfContractedTime\",\"type\":2050},{\"default\":\"\",\"id\":12,\"name\":\"Label6\",\"type\":1010},{\"default\":\"\",\"id\":13,\"is_editable\":true,\"name\":\"ThighContractedYN\",\"type\":2000},{\"default\":\"\",\"id\":14,\"is_editable\":true,\"name\":\"LowerLegAngleYN\",\"type\":2000},{\"default\":\"\",\"id\":15,\"is_editable\":true,\"name\":\"ThighAngleYN\",\"type\":2000},{\"default\":\"\",\"id\":16,\"is_editable\":true,\"is_numeric\":true,\"name\":\"ThighContractedTime\",\"type\":2050},{\"default\":\"\",\"id\":17,\"is_editable\":true,\"is_numeric\":true,\"name\":\"LowerLegAngleTime\",\"type\":2050},{\"default\":\"\",\"id\":18,\"is_editable\":true,\"is_numeric\":true,\"name\":\"ThighAngleTime\",\"type\":2050},{\"default\":\"\",\"id\":19,\"name\":\"Label7\",\"type\":1010},{\"default\":\"\",\"id\":20,\"name\":\"Label8\",\"type\":1010},{\"default\":\"\",\"id\":21,\"name\":\"Label9\",\"type\":1010},{\"default\":\"\",\"id\":22,\"is_editable\":true,\"is_numeric\":true,\"name\":\"CalfContractedAttempts\",\"type\":2050},{\"default\":\"\",\"id\":23,\"is_editable\":true,\"is_numeric\":true,\"name\":\"ThighContractedAttempts\",\"type\":2050},{\"default\":\"\",\"id\":24,\"is_editable\":true,\"is_numeric\":true,\"name\":\"LowerLegAngleAttempts\",\"type\":2050},{\"default\":\"\",\"id\":25,\"is_editable\":true,\"is_numeric\":true,\"name\":\"ThighAngleAttempts\",\"type\":2050},{\"default\":\"\",\"id\":26,\"name\":\"Label10\",\"type\":1010},{\"default\":\"\",\"id\":29,\"is_editable\":true,\"name\":\"PhotoUpload1\",\"type\":3060},{\"default\":\"\",\"id\":30,\"name\":\"ShowRawDataDownload\",\"type\":2000},{\"default\":\"\",\"id\":31,\"name\":\"Label12\",\"type\":1010},{\"default\":\"\",\"id\":32,\"is_editable\":true,\"name\":\"RawDataUpload\",\"type\":3010}],\"id\":\"3a5c9958-dc82-4c74-be84-ded2514fd9d8\",\"is_active\":true,\"last_edit_by\":\"DanParsonson\",\"last_edit_date\":6892340200,\"name\":\"Knee lift session log\",\"version\":17}}}\n"
     ]
    }
   ],
   "source": [
    "plate_template_read = requests.get('https://cued2018.xenplate.com/api/template/read/full?plate_name=Knee lift session log&version=17', #what is the plateid? and could it be IdPlate?\n",
    "                               headers={'Authorization': 'X-API-KEY: ' + key},          #also what is a track_id?\n",
    "                               cert=(cert_path, key_path)\n",
    "                               )\n",
    "print(plate_template_read.text)\n",
    "#print(json.dumps(plate_template_read.text, sort_keys=False, indent=10, separators=(',', '\\n')))"
   ]
  },
  {
   "cell_type": "markdown",
   "metadata": {},
   "source": [
    "#  Files (Images and Text)"
   ]
  },
  {
   "cell_type": "markdown",
   "metadata": {},
   "source": [
    "When uploading any files to Xenplate using the API, you'll need to use the File service to send them up before sending the plate data; the File/Create service call will upload a file and return a file ID, which is a long string of letters and numbers with the original file extension on the end (e.g. 1ad78b796d8a23b409da821b3d078a96bd234.jpg). Once you have this ID, that's what you put in the plate data in the 'attachments' array, along with the original file name. This will make more sense if you get some data out of Xenplate and have a look at it.\n",
    "\n",
    "Note that due to a weird bug in Windows/.NET that one of the other groups experienced, you'll need to call File/Connect first, to establish an authenticated connection, then immediately after you can use File/Create to upload. If you only hit File/Upload then it's likely to freeze and then time out. Just make a GET call to /file/connect to do this; no parameters and no return values, just the usual headers and client certificate."
   ]
  },
  {
   "cell_type": "code",
   "execution_count": 4,
   "metadata": {},
   "outputs": [
    {
     "name": "stdout",
     "output_type": "stream",
     "text": [
      "{\"PlateDataReadByIdResult\":{\"status\":0,\"plate_data\":{\"control_values\":[{\"attachments\":[],\"id\":4,\"value\":\"5\"},{\"attachments\":[],\"id\":9,\"value\":\"True\"},{\"attachments\":[],\"id\":10,\"value\":\"54\"},{\"attachments\":[],\"id\":13,\"value\":\"False\"},{\"attachments\":[],\"id\":14,\"value\":\"True\"},{\"attachments\":[],\"id\":15,\"value\":\"False\"},{\"attachments\":[],\"id\":16,\"value\":\"\"},{\"attachments\":[],\"id\":17,\"value\":\"32.8\"},{\"attachments\":[],\"id\":18,\"value\":\"\"},{\"attachments\":[],\"id\":22,\"value\":\"12\"},{\"attachments\":[],\"id\":23,\"value\":\"\"},{\"attachments\":[],\"id\":24,\"value\":\"5\"},{\"attachments\":[],\"id\":25,\"value\":\"\"},{\"attachments\":[],\"id\":28,\"value\":\"8.2%\"},{\"attachments\":[{\"description\":\"\",\"key\":\"24DAADF7B601DD71AA7B74EB2D6BA796F30F305D.png\",\"original_file_name\":\"SampleKneeLiftChart.png\",\"saved_date_time\":6891911465}],\"id\":29,\"value\":\"\"},{\"attachments\":[{\"description\":\"\",\"key\":\"3921BD1A1D625E3E6CEBBCD57DC99C3094F7ACF9.docx\",\"original_file_name\":\"TestData.docx\",\"saved_date_time\":6891911498}],\"id\":32,\"value\":\"\"}],\"id\":1056,\"last_edit_date\":6891911498,\"plate_template_id\":\"3a5c9958-dc82-4c74-be84-ded2514fd9d8\",\"plate_template_version\":15,\"record_id\":5}}}\n"
     ]
    }
   ],
   "source": [
    "plate_data_read = requests.get('https://cued2018.xenplate.com/api/data/read/id?record_id=5&plate_data_id=1056', #1078 for knee\n",
    "                                headers={'Authorization': 'X-API-KEY: ' + key},         #1015 for blood sugar\n",
    "                                cert=(cert_path, key_path)\n",
    "                                )\n",
    "print(plate_data_read.text)"
   ]
  },
  {
   "cell_type": "code",
   "execution_count": 7,
   "metadata": {},
   "outputs": [
    {
     "name": "stdout",
     "output_type": "stream",
     "text": [
      "{}\n"
     ]
    }
   ],
   "source": [
    "#need to connect first because of a bug in the code\n",
    "session = requests.Session()\n",
    "file_connect = session.get('https://cued2018.xenplate.com/api/file/connect',\n",
    "                               headers={'Authorization': 'X-API-KEY: ' + key},\n",
    "                               cert=(cert_path, key_path)\n",
    "                              )\n",
    "print(file_connect.text)"
   ]
  },
  {
   "cell_type": "code",
   "execution_count": 8,
   "metadata": {},
   "outputs": [
    {
     "name": "stdout",
     "output_type": "stream",
     "text": [
      "{\"FileCreateResult\":{\"status\":0,\"file_id\":\"F76E8B030BF3BBCC24D421441CA3CE1BD2E29E55\"}}\n"
     ]
    }
   ],
   "source": [
    "#add stupid '\\\\' to end of string to get backslash\n",
    "path = r\"C:\\Users\\Alex\\Documents\\Cambridge\\IIA\\3rd Year Projects\\3GM1 Physio Project\\File upload.jpg\"\n",
    "\n",
    "#print(path + '\\\\' + file)\n",
    "\n",
    "with open(path, 'rb') as picture: #have to convert to rb to stream the picture in\n",
    "    file_create = session.post('https://cued2018.xenplate.com/api/file/create', \n",
    "                                data = picture, \n",
    "                                headers={'Authorization': 'X-API-KEY: ' + key},\n",
    "                                cert=(cert_path, key_path)\n",
    "                               )\n",
    "    print(file_create.text)\n",
    "\n",
    "    \n",
    "#print(upload_files(path, file))"
   ]
  },
  {
   "cell_type": "code",
   "execution_count": 9,
   "metadata": {},
   "outputs": [
    {
     "name": "stdout",
     "output_type": "stream",
     "text": [
      "F76E8B030BF3BBCC24D421441CA3CE1BD2E29E55\n"
     ]
    }
   ],
   "source": [
    "#this is bad code, if more time, use regular expressions\n",
    "def get_file_id(text):\n",
    "    #pick out and store the plate_data_id from when we create the plate\n",
    "    i = 0\n",
    "    while text[i] != \"\":\n",
    "        if i < len(text) - 17: #stops it going to the end to prevent errors\n",
    "            if text[i:i+10] == '\"file_id\":':\n",
    "                idnum = text[i+11:i+51]\n",
    "        \n",
    "        else: break\n",
    "\n",
    "        i = i+1\n",
    "    \n",
    "    return idnum\n",
    "\n",
    "file_id = get_file_id(file_create.text)\n",
    "print(file_id)"
   ]
  },
  {
   "cell_type": "markdown",
   "metadata": {},
   "source": [
    "# Knee Session Code"
   ]
  },
  {
   "cell_type": "code",
   "execution_count": 10,
   "metadata": {},
   "outputs": [],
   "source": [
    "class Plate(object):\n",
    "    \"\"\"Class representing a plate record to send\"\"\"\n",
    "    def __init__(self, rec_id, temp_id, version, control_values, leg_raise_sessions, data_plot): #, raw_data\n",
    "        self.record_id = rec_id\n",
    "        self.temp_id = temp_id\n",
    "        self.version = version\n",
    "        self.control_values = control_values\n",
    "        self.leg_raise_sessions = leg_raise_sessions\n",
    "        self.data_plot = data_plot\n",
    "#        self.raw_data = raw_data\n",
    "\n",
    "    def to_json_dict(self):\n",
    "        # append each input to plate_data_create to the control_json string ( .to_json_dict() ) note-this is a dictionary\n",
    "        control_json = [self.leg_raise_sessions.to_json_dict()]\n",
    "        for c in self.control_values:\n",
    "            control_json += c.to_json_list()\n",
    "\n",
    "        control_json += [self.data_plot.to_json_dict()]\n",
    "#        control_json += [self.raw_data.to_json_dict()]\n",
    "\n",
    "        return {\n",
    "            \"data\":{\n",
    "                \"record_id\": self.record_id,\n",
    "                \"plate_template_id\": self.temp_id,\n",
    "                \"plate_template_version\": self.version,\n",
    "                \"control_values\": control_json\n",
    "            }\n",
    "        }\n",
    "\n",
    "\n",
    "class LegRaiseSessions(object):\n",
    "    \"\"\"docstring for LegRaiseSessions\"\"\"\n",
    "    def __init__(self, c):\n",
    "        self.count = c\n",
    "\n",
    "    def to_json_dict(self):\n",
    "        return {\n",
    "            \"id\": 4,\n",
    "            \"value\": self.count\n",
    "        }\n",
    "\n",
    "class Calf(object):\n",
    "    \"\"\"control value class\"\"\"\n",
    "    def __init__(self, c, t, a):\n",
    "        self.complete = c\n",
    "        self.time = t\n",
    "        self.attempts = a\n",
    "\n",
    "    def to_json_list(self):\n",
    "        return [\n",
    "            {\"id\": 9, \"value\": str(self.complete)},\n",
    "            {\"id\": 10,\"value\": self.time},\n",
    "            {\"id\": 22,\"value\": self.attempts}\n",
    "        ]\n",
    "    \n",
    "class Thigh(object):\n",
    "    \"\"\"control value class\"\"\"\n",
    "    def __init__(self, c, t, a):\n",
    "        self.complete = c\n",
    "        self.time = t\n",
    "        self.attempts = a\n",
    "\n",
    "    def to_json_list(self):\n",
    "        return [\n",
    "            {\"id\": 13, \"value\": str(self.complete)},\n",
    "            {\"id\": 16,\"value\": self.time},\n",
    "            {\"id\": 23,\"value\": self.attempts}\n",
    "        ]\n",
    "    \n",
    "class Straight(object):\n",
    "    \"\"\"control value class\"\"\"\n",
    "    def __init__(self, c, t, a):\n",
    "        self.complete = c\n",
    "        self.time = t\n",
    "        self.attempts = a\n",
    "\n",
    "    def to_json_list(self):\n",
    "        return [\n",
    "            {\"id\": 14, \"value\": str(self.complete)},\n",
    "            {\"id\": 17,\"value\": self.time},\n",
    "            {\"id\": 24,\"value\": self.attempts}\n",
    "        ]\n",
    "\n",
    "class Angle(object):\n",
    "    \"\"\"control value class\"\"\"\n",
    "    def __init__(self, c, t, a):\n",
    "        self.complete = c\n",
    "        self.time = t\n",
    "        self.attempts = a\n",
    "\n",
    "    def to_json_list(self):\n",
    "        return [\n",
    "            {\"id\": 15, \"value\": str(self.complete)},\n",
    "            {\"id\": 18,\"value\": self.time},\n",
    "            {\"id\": 25,\"value\": self.attempts}\n",
    "        ]\n",
    "\n",
    "class data_plot(object):\n",
    "    \"\"\"control value class\"\"\"\n",
    "    def __init__(self, k, n):\n",
    "        self.key = k\n",
    "        self.name = n\n",
    "\n",
    "    def to_json_dict(self):\n",
    "        return {\"attachments\":[{\"description\":\"\", \"key\":str(self.key), \n",
    "                                \"original_file_name\":str(self.name), \"saved_date_time\":int(t_now)}], \n",
    "            \"id\": 29, \"value\": \"\"}\n",
    "    \n",
    "#class raw_data(object):\n",
    "#    \"\"\"control value class\"\"\"\n",
    "#    def __init__(self, k, n):\n",
    "#        self.key = k\n",
    "#        self.name = n\n",
    "#\n",
    "#    def to_json_dict(self):\n",
    "#        return {\"attachments\":[{\"description\":\"\", \"key\":str(self.key), \n",
    "#                                \"original_file_name\":str(self.name), \"saved_date_time\":t_now}], \n",
    "#            \"id\": 32, \"value\": \"\"}"
   ]
  },
  {
   "cell_type": "code",
   "execution_count": 11,
   "metadata": {},
   "outputs": [
    {
     "name": "stdout",
     "output_type": "stream",
     "text": [
      "{'data': {'record_id': '13', 'plate_template_id': '3a5c9958-dc82-4c74-be84-ded2514fd9d8', 'plate_template_version': '17', 'control_values': [{'id': 4, 'value': 5}, {'id': 9, 'value': 'True'}, {'id': 10, 'value': 20}, {'id': 22, 'value': 10}, {'id': 13, 'value': 'True'}, {'id': 16, 'value': 19}, {'id': 23, 'value': 3}, {'id': 14, 'value': 'True'}, {'id': 17, 'value': 18}, {'id': 24, 'value': 8}, {'id': 15, 'value': 'True'}, {'id': 18, 'value': 17}, {'id': 25, 'value': 7}, {'attachments': [{'description': '', 'key': 'F76E8B030BF3BBCC24D421441CA3CE1BD2E29E55', 'original_file_name': 'File upload.jpg', 'saved_date_time': 6892423921}], 'id': 29, 'value': ''}]}}\n"
     ]
    }
   ],
   "source": [
    "## Example \"discription\":str(self.discription), , \"original_file_name\":str(self.name)+\".png\"\n",
    "\n",
    "lr = LegRaiseSessions(5)\n",
    "c = [\n",
    "    Calf(True, 20, 10),\n",
    "    Thigh(True, 19, 3), \n",
    "    Straight(True, 18, 8),\n",
    "    Angle(True, 17, 7)\n",
    "]\n",
    "p = Plate(\"13\", \"3a5c9958-dc82-4c74-be84-ded2514fd9d8\", \"17\", c, lr, data_plot(file_id, 'File upload.jpg'))\n",
    "#print(p.to_json_dict())\n",
    "#, raw_data(file_id2, \"Poster & Presentation notes\")\n",
    "\n",
    "def print_stuff(j):\n",
    "    print(j.to_json_dict())\n",
    "    \n",
    "print_stuff(p)"
   ]
  },
  {
   "cell_type": "code",
   "execution_count": 12,
   "metadata": {},
   "outputs": [
    {
     "name": "stdout",
     "output_type": "stream",
     "text": [
      "{\"PlateDataCreateResult\":{\"status\":0,\"control_validation_errors\":[],\"plate_data_id\":1355,\"validation_errors\":[]}}\n"
     ]
    }
   ],
   "source": [
    "def create_plate(controls):\n",
    "    plate_data_create = requests.post('https://cued2018.xenplate.com/api/data/create',\n",
    "                            json=controls.to_json_dict(),\n",
    "                            headers={'Authorization': 'X-API-KEY: ' + key},\n",
    "                            cert=(cert_path, key_path)\n",
    "                            )\n",
    "    print(plate_data_create.text)\n",
    "    \n",
    "create_plate(p)\n"
   ]
  },
  {
   "cell_type": "markdown",
   "metadata": {},
   "source": [
    "### Redundant initial code (problem was that you couldnt easily assign control values)"
   ]
  },
  {
   "cell_type": "code",
   "execution_count": 2,
   "metadata": {},
   "outputs": [
    {
     "ename": "NameError",
     "evalue": "name 'upload_files' is not defined",
     "output_type": "error",
     "traceback": [
      "\u001b[1;31m---------------------------------------------------------------------------\u001b[0m",
      "\u001b[1;31mNameError\u001b[0m                                 Traceback (most recent call last)",
      "\u001b[1;32m<ipython-input-2-839125a18ff9>\u001b[0m in \u001b[0;36m<module>\u001b[1;34m()\u001b[0m\n\u001b[0;32m      2\u001b[0m \u001b[0mfile1\u001b[0m \u001b[1;33m=\u001b[0m \u001b[1;34m\"Files.png\"\u001b[0m\u001b[1;33m\u001b[0m\u001b[0m\n\u001b[0;32m      3\u001b[0m \u001b[1;33m\u001b[0m\u001b[0m\n\u001b[1;32m----> 4\u001b[1;33m \u001b[0mout_text1\u001b[0m \u001b[1;33m=\u001b[0m \u001b[0mupload_files\u001b[0m\u001b[1;33m(\u001b[0m\u001b[0mpath1\u001b[0m\u001b[1;33m,\u001b[0m \u001b[0mfile1\u001b[0m\u001b[1;33m)\u001b[0m\u001b[1;33m\u001b[0m\u001b[0m\n\u001b[0m\u001b[0;32m      5\u001b[0m \u001b[0mprint\u001b[0m\u001b[1;33m(\u001b[0m\u001b[0mout_text1\u001b[0m\u001b[1;33m)\u001b[0m\u001b[1;33m\u001b[0m\u001b[0m\n\u001b[0;32m      6\u001b[0m \u001b[1;33m\u001b[0m\u001b[0m\n",
      "\u001b[1;31mNameError\u001b[0m: name 'upload_files' is not defined"
     ]
    }
   ],
   "source": [
    "path1 = r\"C:\\Users\\Alex\\Documents\\Cambridge\\IIA\\3rd Year Projects\\3GM1 Physio Project\"\n",
    "file1 = \"Files.png\"\n",
    "\n",
    "out_text1 = upload_files(path1, file1)\n",
    "print(out_text1)\n",
    "\n",
    "file_id1 = get_file_id(out_text1)\n",
    "print(file_id1)\n",
    "\n",
    "\n",
    "path2 = r\"C:\\Users\\Alex\\Documents\\Cambridge\\IIA\\3rd Year Projects\\3GM1 Physio Project\"\n",
    "file2 = \"Poster & Presentation notes.docx\"\n",
    "\n",
    "out_text2 = upload_files(path2, file2)\n",
    "print(out_text2)\n",
    "\n",
    "file_id2 = get_file_id(out_text2)\n",
    "print(file_id2)"
   ]
  },
  {
   "cell_type": "code",
   "execution_count": null,
   "metadata": {},
   "outputs": [],
   "source": [
    "                                {\"data\": {\n",
    "                                            \"record_id\": 5,\n",
    "                                        \"plate_template_id\": \"3a5c9958-dc82-4c74-be84-ded2514fd9d8\", #what is a plate template id?\n",
    "                                        \"plate_template_version\": 15,          #keep this as the latest iteration of leg raise template\n",
    "#                                        \"prior_data_id\": \"\",                  #optional\n",
    "#                                        \"track_id\": \"\",\n",
    "                                        \"control_values\":                       \n",
    "                                        [\n",
    "                                                {\"id\": \"4\", \"value\": 10}, #leg raise sessions\n",
    "                                            #first green bubble\n",
    "                                                {\"id\": 9, \"value\": True},  #completed? can be True or \"True\", (string or bool)\n",
    "                                                {\"id\": 10, \"value\": 17.3}, #best time\n",
    "                                                {\"id\": 22, \"value\": 12},   #attempts\n",
    "                                            #second green bubble\n",
    "                                                {\"id\": 13, \"value\": \"True\"},  #completed?\n",
    "                                                {\"id\": 16, \"value\": 17.3}, #best time\n",
    "                                                {\"id\": 23, \"value\": 12},   #attempts\n",
    "                                            #third green bubble\n",
    "                                                {\"id\": 14, \"value\": \"True\"},  #completed?\n",
    "                                                {\"id\": 17, \"value\": 17.3}, #best time\n",
    "                                                {\"id\": 24, \"value\": 12},   #attempts\n",
    "                                            #fourth green bubble\n",
    "                                                {\"id\": 15, \"value\": \"True\"},  #completed?\n",
    "                                                {\"id\": 18, \"value\": 17.3}, #best time\n",
    "                                                {\"id\": 25, \"value\": 12},   #attempts\n",
    "                                            \n",
    "                                            #comparison to last session's tasks\n",
    "                                                {\"id\": 28, \"value\": \"10%\"},\n",
    "                                            #figure and raw data attachment?\n",
    "                                        ]\n",
    "                                       }\n",
    "                            }"
   ]
  }
 ],
 "metadata": {
  "kernelspec": {
   "display_name": "Python 3",
   "language": "python",
   "name": "python3"
  },
  "language_info": {
   "codemirror_mode": {
    "name": "ipython",
    "version": 3
   },
   "file_extension": ".py",
   "mimetype": "text/x-python",
   "name": "python",
   "nbconvert_exporter": "python",
   "pygments_lexer": "ipython3",
   "version": "3.6.5"
  }
 },
 "nbformat": 4,
 "nbformat_minor": 2
}
