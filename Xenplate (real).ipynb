{
 "cells": [
  {
   "cell_type": "markdown",
   "metadata": {},
   "source": [
    "# Xenplate Communication Code"
   ]
  },
  {
   "cell_type": "code",
   "execution_count": 13,
   "metadata": {},
   "outputs": [],
   "source": [
    "import requests\n",
    "from datetime import datetime\n",
    "import time\n",
    "import json"
   ]
  },
  {
   "cell_type": "code",
   "execution_count": 3,
   "metadata": {},
   "outputs": [],
   "source": [
    "#codes for convenience\n",
    "user = \"GroupThree\"\n",
    "key = \"wRjUm82tln5ZYPpd1tQ3rV0c\"\n",
    "certif = \"N3s7i2uYJ0pgAiRxEHv2FNYw\"\n",
    "\n",
    "path = r\"C:\\Users\\Alex\\Documents\\Cambridge\\IIA\\3rd Year Projects\\3GM1 Physio Project\\Xenplate Passwords\\L2S2-2018-CUEDGroup3-20180509\"\n",
    "\n",
    "cert_path = path + \".crt\"\n",
    "key_path = path + \".key.decrypted\"\n"
   ]
  },
  {
   "cell_type": "code",
   "execution_count": 4,
   "metadata": {},
   "outputs": [
    {
     "name": "stdout",
     "output_type": "stream",
     "text": [
      "2012-08-29 11:38:22\n",
      "1322697600.0\n",
      "1527501837.542503\n"
     ]
    }
   ],
   "source": [
    "print(datetime.fromtimestamp(1346236702))\n",
    "s = \"01/12/2011\"\n",
    "t_stamp = time.mktime(datetime.strptime(s, \"%d/%m/%Y\").timetuple())\n",
    "t_now = datetime.now().timestamp()\n",
    "print(t_stamp)\n",
    "print(t_now)"
   ]
  },
  {
   "cell_type": "code",
   "execution_count": 64,
   "metadata": {},
   "outputs": [],
   "source": [
    "def get_plate_id(text):\n",
    "    #pick out and store the plate_data_id from when we create the plate\n",
    "    i = 0\n",
    "    while text[i] != \"\":\n",
    "        if i < len(text) - 17: #stops it going to the end to prevent errors\n",
    "            if text[i:i+16] == '\"plate_data_id\":':\n",
    "                idnum = text[i+16:i+20]\n",
    "        \n",
    "        else: break\n",
    "\n",
    "        i = i+1\n",
    "    \n",
    "    return idnum"
   ]
  },
  {
   "cell_type": "markdown",
   "metadata": {},
   "source": [
    "# Record (Key plate/Person)"
   ]
  },
  {
   "cell_type": "markdown",
   "metadata": {},
   "source": [
    "'id_number' is the user-assigned unique identifier, for instance the patient's NHS number - you will need to provide that one\n",
    "the record property names are only in the form 'IdNumber' when calling the record search function, \n",
    "because of an inconsistency in the code - everywhere else, use the format specified in the documentation ('id_number')\n",
    "\n",
    "'id' is the unique identifier that we assign to an entry in the database:\n",
    "when calling any 'create' function, you don't need to send a value for that and if you do, we'll ignore it. \n",
    "However when you read items, we'll send you the id, since that's the quickest way to uniquely identify the thing you're reading."
   ]
  },
  {
   "cell_type": "markdown",
   "metadata": {},
   "source": [
    "#### Create Record/Key plate"
   ]
  },
  {
   "cell_type": "code",
   "execution_count": null,
   "metadata": {},
   "outputs": [],
   "source": [
    "#record_create = requests.post('https://cued2018.xenplate.com/api/record/create',\n",
    "#                               json={\"record\": {\n",
    "#                                       \"first_names\": \"Alex\",\n",
    "#                                       \"surname\": \"Darch\",\n",
    "#                                       \"address_line1\": \"18 Thornton Ave\",\n",
    "#                                       \"address_line2\": \"Warsash\",\n",
    "#                                       \"address_town\": \"Southampton\",\n",
    "#                                       \"address_county\": \"Hampshire\",\n",
    "#                                       \"address_postcode\": \"SO31 9FJ\",\n",
    "#                                       \"id_number\": \"1234567890\",               #assign this\n",
    "#                                       \"date_of_birth\": t_now,\n",
    "#                                       \"contact_email\": \"ad806@cam.ac.uk\",\n",
    "#                                       \"contact_mobile\": \"\",\n",
    "#                                       \"contact_phone\": \"\"\n",
    "#                                       }\n",
    "#                                     },\n",
    "#                                 headers={'Authorization': 'X-API-KEY: ' + key},  #dont need the certificate password as we have unlocked it\n",
    "#                                 cert=(cert_path, key_path)                       #not verify, cert for all of them\n",
    "#                               )\n",
    "#attrs = vars(record_create)\n",
    "#print('\\n'.join(\"%s: %s\" % item for item in attrs.items()))                    #If we use print(stuff.text) it is the equivelent of print(stuff._content)                  "
   ]
  },
  {
   "cell_type": "markdown",
   "metadata": {},
   "source": [
    "#### Search Records"
   ]
  },
  {
   "cell_type": "code",
   "execution_count": 40,
   "metadata": {},
   "outputs": [
    {
     "name": "stdout",
     "output_type": "stream",
     "text": [
      "_content: b'{\"RecordSearchResult\":{\"status\":0,\"records\":[{\"date_of_birth\":6890486400,\"first_names\":\"Group Three\",\"id\":5,\"id_number\":\"6255822850\",\"surname\":\"Test Record\"},{\"address_county\":\"Hampshire\",\"address_line1\":\"18 Thornton Ave\",\"address_line2\":\"Warsash\",\"address_postcode\":\"SO31 9FJ\",\"address_town\":\"Southampton\",\"contact_email\":\"ad806@cam.ac.uk\",\"contact_mobile\":\"\",\"contact_phone\":\"\",\"date_of_birth\":1322697600,\"first_names\":\"Alex\",\"id\":13,\"id_number\":\"1234567890\",\"surname\":\"Darch\"}]}}'\n",
      "_content_consumed: True\n",
      "_next: None\n",
      "status_code: 200\n",
      "headers: {'Content-Length': '482', 'Content-Type': 'application/json; charset=utf-8', 'Server': 'Microsoft-HTTPAPI/2.0', 'Date': 'Sat, 26 May 2018 12:43:30 GMT'}\n",
      "raw: <urllib3.response.HTTPResponse object at 0x0000023E24B33208>\n",
      "url: https://cued2018.xenplate.com/api/record/search\n",
      "encoding: utf-8\n",
      "history: []\n",
      "reason: OK\n",
      "cookies: <RequestsCookieJar[]>\n",
      "elapsed: 0:00:00.238427\n",
      "request: <PreparedRequest [POST]>\n",
      "connection: <requests.adapters.HTTPAdapter object at 0x0000023E24B43B38>\n",
      "<Response [200]>\n"
     ]
    }
   ],
   "source": [
    "record_search = requests.post('https://cued2018.xenplate.com/api/record/search',\n",
    "                        json={\"filters\": [{\n",
    "                                        \"operator\": 2,          #comparison operator. 1 = \"=\", 2 = \"<\", 4 = \">\". (There is no 3, and 0 is invalid)\n",
    "                                        \"property\": \"IdNumber\", #Inconsistency in code means \"records\" uses IdNumber, but the others use id_number\n",
    "                                        \"value\": 7000000000     #can have a number or a string here\n",
    "                                        }]\n",
    "                            },\n",
    "                        headers={'Authorization': 'X-API-KEY: ' + key},\n",
    "                        cert=(cert_path, key_path)                          #dont need the certificate password as we have unlocked it\n",
    "                     )\n",
    "attrs = vars(record_search)\n",
    "print('\\n'.join(\"%s: %s\" % item for item in attrs.items())) \n",
    "print(record_search)."
   ]
  },
  {
   "cell_type": "markdown",
   "metadata": {},
   "source": [
    "#### Read Specific Record"
   ]
  },
  {
   "cell_type": "code",
   "execution_count": 4,
   "metadata": {
    "scrolled": false
   },
   "outputs": [
    {
     "name": "stdout",
     "output_type": "stream",
     "text": [
      "_content: b'{\"RecordReadResult\":{\"status\":0,\"record\":{\"address_county\":\"Hampshire\",\"address_line1\":\"18 Thornton Ave\",\"address_line2\":\"Warsash\",\"address_postcode\":\"SO31 9FJ\",\"address_town\":\"Southampton\",\"contact_email\":\"ad806@cam.ac.uk\",\"contact_mobile\":\"\",\"contact_phone\":\"\",\"date_of_birth\":1322697600,\"first_names\":\"Alex\",\"id\":13,\"id_number\":\"1234567890\",\"surname\":\"Darch\"}}}'\n",
      "_content_consumed: True\n",
      "_next: None\n",
      "status_code: 200\n",
      "headers: {'Content-Length': '364', 'Content-Type': 'application/json; charset=utf-8', 'Server': 'Microsoft-HTTPAPI/2.0', 'Date': 'Sat, 26 May 2018 15:07:36 GMT'}\n",
      "raw: <urllib3.response.HTTPResponse object at 0x000001682B158A58>\n",
      "url: https://cued2018.xenplate.com/api/record/read?record_id=13\n",
      "encoding: utf-8\n",
      "history: []\n",
      "reason: OK\n",
      "cookies: <RequestsCookieJar[]>\n",
      "elapsed: 0:00:00.249238\n",
      "request: <PreparedRequest [GET]>\n",
      "connection: <requests.adapters.HTTPAdapter object at 0x000001682B141470>\n"
     ]
    }
   ],
   "source": [
    "#need to search for record_id, not IdNumber/id_number\n",
    "record_read_by_id = requests.get('https://cued2018.xenplate.com/api/record/read?record_id=13', #only works for record_id (i.e. not id_number, first_names... etc.)\n",
    "                        headers={'Authorization': 'X-API-KEY: ' + key},\n",
    "                        cert=(cert_path, key_path)                          #dont need the certificate password as we have unlocked it\n",
    "                     )                                                      #is there a particular reason why cert uses curved brackets rather than curly ones?\n",
    "attrs = vars(record_read_by_id)\n",
    "print('\\n'.join(\"%s: %s\" % item for item in attrs.items()))"
   ]
  },
  {
   "cell_type": "markdown",
   "metadata": {},
   "source": [
    "# Plate Data"
   ]
  },
  {
   "cell_type": "markdown",
   "metadata": {},
   "source": [
    "#### Create Plate"
   ]
  },
  {
   "cell_type": "markdown",
   "metadata": {},
   "source": [
    "'control_values' are the actual values of data in your filled-in form - get a plate template and have a look at what's inside it and hopefully this will make sense. The control_values collection is a dictionary of control id to value, e.g. if your plate template has a 'dosage quantity' field in it, and its id is 427, and you want to post a value of 100 for that field, then the control_values entry for that would be { \"id\": \"427\", \"value\": \"100\"}. If you can download some plate data you'll see how it's laid out and that will guide you.\n",
    "\n",
    "'plate_template_id' is 'id' for a plate template - you can get this by searching for templates (you don't have this call in your code but it's in the doc - /template/list/all will get you all of them); likewise the version (templates are versioned and you should make sure you're using the latest)\n",
    "\n",
    "plate_id is 'id' for a plate data instance - you can get this by searching for plates (/api/data/list)"
   ]
  },
  {
   "cell_type": "code",
   "execution_count": 35,
   "metadata": {},
   "outputs": [
    {
     "name": "stdout",
     "output_type": "stream",
     "text": [
      "_content: b'{\"PlateDataCreateResult\":{\"status\":0,\"control_validation_errors\":[],\"plate_data_id\":1120,\"validation_errors\":[]}}'\n",
      "_content_consumed: True\n",
      "_next: None\n",
      "status_code: 200\n",
      "headers: {'Content-Length': '113', 'Content-Type': 'application/json; charset=utf-8', 'Server': 'Microsoft-HTTPAPI/2.0', 'Date': 'Mon, 28 May 2018 10:36:13 GMT'}\n",
      "raw: <urllib3.response.HTTPResponse object at 0x000001396385CD68>\n",
      "url: https://cued2018.xenplate.com/api/data/create\n",
      "encoding: utf-8\n",
      "history: []\n",
      "reason: OK\n",
      "cookies: <RequestsCookieJar[]>\n",
      "elapsed: 0:00:03.880180\n",
      "request: <PreparedRequest [POST]>\n",
      "connection: <requests.adapters.HTTPAdapter object at 0x000001396384E7B8>\n"
     ]
    }
   ],
   "source": [
    "plate_data_create = requests.post('https://cued2018.xenplate.com/api/data/create',\n",
    "                        json={\"data\": {\n",
    "                                        \"record_id\": 5,\n",
    "                                        \"plate_template_id\": \"2ab6af16-1d0b-4daf-8c23-6e61fccdbfea\",          \n",
    "                                        \"plate_template_version\": 4,          #keep this as the latest iteration of leg raise template\n",
    "#                                        \"prior_data_id\": \"\",                  #optional\n",
    "#                                        \"track_id\": \"\",\n",
    "                                        \"control_values\":                       \n",
    "                                        [\n",
    "                                              {\"id\":187,\"value\":\"2018-05-17\"},\n",
    "                                              {\"id\":188,\"value\":\"10:00\"},\n",
    "                                              {\"id\":191,\"value\":\"1\"},  \n",
    "                                              {\"id\":192,\"value\":\"2\"},\n",
    "                                              {\"id\":193,\"value\":\"5\"},\n",
    "                                              {\"id\":194,\"value\":\"1\"},\n",
    "                                              {\"id\":196,\"value\":\"Test 2.\\u000a\\u000aCan I read different plates?\"}\n",
    "                                            ]\n",
    "                                       }\n",
    "                            },\n",
    "                        headers={'Authorization': 'X-API-KEY: ' + key},\n",
    "                        cert=(cert_path, key_path)\n",
    "                     )\n",
    "attrs = vars(plate_data_create)\n",
    "print('\\n'.join(\"%s: %s\" % item for item in attrs.items())) "
   ]
  },
  {
   "cell_type": "raw",
   "metadata": {},
   "source": [
    "plate_data_create = requests.post('https://cued2018.xenplate.com/api/data/create',\n",
    "                        json={\"data\": {\n",
    "                                        \"record_id\": 5,\n",
    "                                        \"plate_template_id\": \"3a5c9958-dc82-4c74-be84-ded2514fd9d8\", #what is a plate template id?\n",
    "                                        \"plate_template_version\": 15,          #keep this as the latest iteration of leg raise template\n",
    "#                                        \"prior_data_id\": \"\",                  #optional\n",
    "#                                        \"track_id\": \"\",\n",
    "                                        \"control_values\":                       \n",
    "                                        [\n",
    "                                                {\"id\": \"4\", \"value\": 10}, #leg raise sessions\n",
    "                                            #first green bubble\n",
    "                                                {\"id\": 9, \"value\": \"True\"},  #completed?\n",
    "                                                {\"id\": 10, \"value\": 17.3}, #best time\n",
    "                                                {\"id\": 22, \"value\": 12},   #attempts\n",
    "                                            #second green bubble\n",
    "                                                {\"id\": 13, \"value\": \"True\"},  #completed?\n",
    "                                                {\"id\": 16, \"value\": 17.3}, #best time\n",
    "                                                {\"id\": 23, \"value\": 12},   #attempts\n",
    "                                            #third green bubble\n",
    "                                                {\"id\": 14, \"value\": \"True\"},  #completed?\n",
    "                                                {\"id\": 17, \"value\": 17.3}, #best time\n",
    "                                                {\"id\": 24, \"value\": 12},   #attempts\n",
    "                                            #fourth green bubble\n",
    "                                                {\"id\": 15, \"value\": \"True\"},  #completed?\n",
    "                                                {\"id\": 18, \"value\": 17.3}, #best time\n",
    "                                                {\"id\": 25, \"value\": 12},   #attempts\n",
    "                                            \n",
    "                                            #comparison to last session's tasks\n",
    "                                                {\"id\": 28, \"value\": \"10%\"},\n",
    "                                            #figure and raw data attachment?\n",
    "                                        ]\n",
    "                                       }\n",
    "                            },\n",
    "                        headers={'Authorization': 'X-API-KEY: ' + key},\n",
    "                        cert=(cert_path, key_path)\n",
    "                     )\n",
    "attrs = vars(plate_data_create)\n",
    "print('\\n'.join(\"%s: %s\" % item for item in attrs.items())) "
   ]
  },
  {
   "cell_type": "code",
   "execution_count": 66,
   "metadata": {},
   "outputs": [
    {
     "name": "stdout",
     "output_type": "stream",
     "text": [
      "1121\n"
     ]
    }
   ],
   "source": [
    "plate_id = get_plate_id(plate_data_create.text)\n",
    "print(plate_id)"
   ]
  },
  {
   "cell_type": "markdown",
   "metadata": {},
   "source": [
    "#### Read Latest instances of each plate type of a certain record"
   ]
  },
  {
   "cell_type": "code",
   "execution_count": 5,
   "metadata": {},
   "outputs": [
    {
     "name": "stdout",
     "output_type": "stream",
     "text": [
      "{\"PlateDataReadNewestForRecordResult\":{\"status\":0,\"plate_data_headers\":[{\"created_date\":6890543262,\"id\":1009,\"plate_id\":\"e1dfbae8-f39f-40e4-9073-2878bc5b1e96\",\"plate_name\":\"Key Plate\",\"track_id\":\"e1dfbae8-f39f-40e4-9073-2878bc5b1e96\"},{\"created_date\":6891210095,\"id\":1015,\"plate_id\":\"2ab6af16-1d0b-4daf-8c23-6e61fccdbfea\",\"plate_name\":\"Blood Sugar Reading\",\"track_id\":\"2ab6af16-1d0b-4daf-8c23-6e61fccdbfea\"},{\"created_date\":6892003238,\"id\":1078,\"plate_id\":\"3a5c9958-dc82-4c74-be84-ded2514fd9d8\",\"plate_name\":\"Knee lift session log\",\"track_id\":\"3a5c9958-dc82-4c74-be84-ded2514fd9d8\"}]}}\n"
     ]
    }
   ],
   "source": [
    "plate_data_read_all = requests.get('https://cued2018.xenplate.com/api/data/list/newest?record_id=5',\n",
    "                               headers={'Authorization': 'X-API-KEY: ' + key},\n",
    "                               cert=(cert_path, key_path)\n",
    "                               )\n",
    "print(plate_data_read_all.text)"
   ]
  },
  {
   "cell_type": "markdown",
   "metadata": {},
   "source": [
    "#### Read specific plate data (by record ID and plate ID)"
   ]
  },
  {
   "cell_type": "code",
   "execution_count": 40,
   "metadata": {},
   "outputs": [
    {
     "name": "stdout",
     "output_type": "stream",
     "text": [
      "{\"PlateDataReadByIdResult\":{\"status\":0,\"plate_data\":{\"control_values\":[{\"attachments\":[],\"id\":4,\"value\":\"12\"},{\"attachments\":[],\"id\":9,\"value\":\"True\"},{\"attachments\":[],\"id\":10,\"value\":\"30\"},{\"attachments\":[],\"id\":13,\"value\":\"True\"},{\"attachments\":[],\"id\":14,\"value\":\"False\"},{\"attachments\":[],\"id\":15,\"value\":\"False\"},{\"attachments\":[],\"id\":16,\"value\":\"23\"},{\"attachments\":[],\"id\":17,\"value\":\"\"},{\"attachments\":[],\"id\":18,\"value\":\"\"},{\"attachments\":[],\"id\":22,\"value\":\"11\"},{\"attachments\":[],\"id\":23,\"value\":\"2\"},{\"attachments\":[],\"id\":24,\"value\":\"1\"},{\"attachments\":[],\"id\":25,\"value\":\"1\"},{\"attachments\":[],\"id\":28,\"value\":\"45%\"},{\"attachments\":[],\"id\":30,\"value\":\"True\"}],\"id\":1078,\"last_edit_date\":6892003238,\"plate_template_id\":\"3a5c9958-dc82-4c74-be84-ded2514fd9d8\",\"plate_template_version\":15,\"record_id\":5}}}\n"
     ]
    }
   ],
   "source": [
    "plate_data_read = requests.get('https://cued2018.xenplate.com/api/data/read/id?record_id=5&plate_data_id=1078', #1078 for knee\n",
    "                               headers={'Authorization': 'X-API-KEY: ' + key},         #1015 for blood sugar\n",
    "                               cert=(cert_path, key_path)\n",
    "                               )\n",
    "print(plate_data_read.text)"
   ]
  },
  {
   "cell_type": "markdown",
   "metadata": {},
   "source": [
    "# Plate Template"
   ]
  },
  {
   "cell_type": "code",
   "execution_count": 67,
   "metadata": {
    "scrolled": true
   },
   "outputs": [
    {
     "name": "stdout",
     "output_type": "stream",
     "text": [
      "_content: b'{\"PlateTemplateReadAllActiveResult\":{\"status\":0,\"plate_template_headers\":[{\"id\":\"2ab6af16-1d0b-4daf-8c23-6e61fccdbfea\",\"is_active\":true,\"name\":\"Blood Sugar Reading\",\"version\":4},{\"id\":\"e1dfbae8-f39f-40e4-9073-2878bc5b1e96\",\"is_active\":true,\"name\":\"Key Plate\",\"version\":47},{\"id\":\"3a5c9958-dc82-4c74-be84-ded2514fd9d8\",\"is_active\":true,\"name\":\"Knee lift session log\",\"version\":15}]}}'\n",
      "_content_consumed: True\n",
      "_next: None\n",
      "status_code: 200\n",
      "headers: {'Content-Length': '382', 'Content-Type': 'application/json; charset=utf-8', 'Server': 'Microsoft-HTTPAPI/2.0', 'Date': 'Sat, 26 May 2018 11:16:28 GMT'}\n",
      "raw: <urllib3.response.HTTPResponse object at 0x000001EFD80F39E8>\n",
      "url: https://cued2018.xenplate.com/api/template/list/active\n",
      "encoding: utf-8\n",
      "history: []\n",
      "reason: OK\n",
      "cookies: <RequestsCookieJar[]>\n",
      "elapsed: 0:00:00.228494\n",
      "request: <PreparedRequest [GET]>\n",
      "connection: <requests.adapters.HTTPAdapter object at 0x000001EFD70451D0>\n"
     ]
    }
   ],
   "source": [
    "plate_template_read = requests.get('https://cued2018.xenplate.com/api/template/list/active', #what is the plateid? and could it be IdPlate?\n",
    "                               headers={'Authorization': 'X-API-KEY: ' + key},          #also what is a track_id?\n",
    "                               cert=(cert_path, key_path)\n",
    "                               )\n",
    "attrs = vars(plate_template_read)\n",
    "print('\\n'.join(\"%s: %s\" % item for item in attrs.items())) "
   ]
  },
  {
   "cell_type": "code",
   "execution_count": 36,
   "metadata": {},
   "outputs": [
    {
     "name": "stdout",
     "output_type": "stream",
     "text": [
      "{\"PlateTemplateReadByIdNameVersionResult\":{\"status\":0,\"plate_template\":{\"controls\":[{\"default\":\"\",\"id\":2,\"name\":\"Panel1\",\"type\":30},{\"default\":\"\",\"id\":3,\"name\":\"Label1\",\"type\":1010},{\"default\":\"\",\"id\":4,\"is_editable\":true,\"is_numeric\":true,\"name\":\"NumberOfSessions\",\"type\":2050},{\"default\":\"\",\"id\":5,\"name\":\"Label2\",\"type\":1010},{\"default\":\"\",\"id\":6,\"name\":\"Label3\",\"type\":1010},{\"default\":\"\",\"id\":7,\"name\":\"Label4\",\"type\":1010},{\"default\":\"\",\"id\":8,\"name\":\"Label5\",\"type\":1010},{\"default\":\"\",\"id\":9,\"is_editable\":true,\"name\":\"CalfContractedYN\",\"type\":2000},{\"default\":\"\",\"id\":10,\"is_editable\":true,\"is_numeric\":true,\"name\":\"CalfContractedTime\",\"type\":2050},{\"default\":\"\",\"id\":12,\"name\":\"Label6\",\"type\":1010},{\"default\":\"\",\"id\":13,\"is_editable\":true,\"name\":\"ThighContractedYN\",\"type\":2000},{\"default\":\"\",\"id\":14,\"is_editable\":true,\"name\":\"LowerLegAngleYN\",\"type\":2000},{\"default\":\"\",\"id\":15,\"is_editable\":true,\"name\":\"ThighAngleYN\",\"type\":2000},{\"default\":\"\",\"id\":16,\"is_editable\":true,\"is_numeric\":true,\"name\":\"ThighContractedTime\",\"type\":2050},{\"default\":\"\",\"id\":17,\"is_editable\":true,\"is_numeric\":true,\"name\":\"LowerLegAngleTime\",\"type\":2050},{\"default\":\"\",\"id\":18,\"is_editable\":true,\"is_numeric\":true,\"name\":\"ThighAngleTime\",\"type\":2050},{\"default\":\"\",\"id\":19,\"name\":\"Label7\",\"type\":1010},{\"default\":\"\",\"id\":20,\"name\":\"Label8\",\"type\":1010},{\"default\":\"\",\"id\":21,\"name\":\"Label9\",\"type\":1010},{\"default\":\"\",\"id\":22,\"is_editable\":true,\"is_numeric\":true,\"name\":\"CalfContractedAttempts\",\"type\":2050},{\"default\":\"\",\"id\":23,\"is_editable\":true,\"is_numeric\":true,\"name\":\"ThighContractedAttempts\",\"type\":2050},{\"default\":\"\",\"id\":24,\"is_editable\":true,\"is_numeric\":true,\"name\":\"LowerLegAngleAttempts\",\"type\":2050},{\"default\":\"\",\"id\":25,\"is_editable\":true,\"is_numeric\":true,\"name\":\"ThighAngleAttempts\",\"type\":2050},{\"default\":\"\",\"id\":26,\"name\":\"Label10\",\"type\":1010},{\"default\":\"\",\"id\":27,\"name\":\"Label11\",\"type\":1010},{\"default\":\"\",\"id\":28,\"is_editable\":true,\"name\":\"ChangesInTime\",\"type\":2050},{\"default\":\"\",\"id\":29,\"is_editable\":true,\"name\":\"PhotoUpload1\",\"type\":3060},{\"default\":\"\",\"id\":30,\"name\":\"ShowRawDataDownload\",\"type\":2000},{\"default\":\"\",\"id\":31,\"name\":\"Label12\",\"type\":1010},{\"default\":\"\",\"id\":32,\"is_editable\":true,\"name\":\"RawDataUpload\",\"type\":3010}],\"id\":\"3a5c9958-dc82-4c74-be84-ded2514fd9d8\",\"is_active\":true,\"last_edit_by\":\"DanParsonson\",\"last_edit_date\":6891910939,\"name\":\"Knee lift session log\",\"version\":15}}}\n"
     ]
    }
   ],
   "source": [
    "plate_template_read = requests.get('https://cued2018.xenplate.com/api/template/read/full?plate_name=Knee lift session log&version=15', #what is the plateid? and could it be IdPlate?\n",
    "                               headers={'Authorization': 'X-API-KEY: ' + key},          #also what is a track_id?\n",
    "                               cert=(cert_path, key_path)\n",
    "                               )\n",
    "print(plate_template_read.text)\n",
    "#print(json.dumps(plate_template_read.text, sort_keys=False, indent=10, separators=(',', '\\n')))"
   ]
  },
  {
   "cell_type": "code",
   "execution_count": null,
   "metadata": {},
   "outputs": [],
   "source": []
  },
  {
   "cell_type": "code",
   "execution_count": null,
   "metadata": {},
   "outputs": [],
   "source": []
  }
 ],
 "metadata": {
  "kernelspec": {
   "display_name": "Python 3",
   "language": "python",
   "name": "python3"
  },
  "language_info": {
   "codemirror_mode": {
    "name": "ipython",
    "version": 3
   },
   "file_extension": ".py",
   "mimetype": "text/x-python",
   "name": "python",
   "nbconvert_exporter": "python",
   "pygments_lexer": "ipython3",
   "version": "3.6.5"
  }
 },
 "nbformat": 4,
 "nbformat_minor": 2
}
